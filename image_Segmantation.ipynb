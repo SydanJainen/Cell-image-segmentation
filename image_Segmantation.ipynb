{
  "cells": [
    {
      "cell_type": "markdown",
      "metadata": {
        "id": "view-in-github",
        "colab_type": "text"
      },
      "source": [
        "<a href=\"https://colab.research.google.com/github/SydanJainen/Cell-image-segmentation/blob/main/image_Segmantation.ipynb\" target=\"_parent\"><img src=\"https://colab.research.google.com/assets/colab-badge.svg\" alt=\"Open In Colab\"/></a>"
      ]
    },
    {
      "cell_type": "markdown",
      "metadata": {
        "id": "JUnkC-z2j3sP"
      },
      "source": [
        "# CELL IMAGE SEGMENTATION"
      ]
    },
    {
      "cell_type": "markdown",
      "metadata": {
        "id": "JGnmA8UWy5tw"
      },
      "source": [
        "## HYPERPARAMETER\n"
      ]
    },
    {
      "cell_type": "code",
      "execution_count": null,
      "metadata": {
        "id": "xEiCoWKNjyc5"
      },
      "outputs": [],
      "source": [
        "IMG_WIDTH = 256\n",
        "IMG_HEIGHT = 256\n",
        "IMG_CHANNEL = 3\n",
        "\n",
        "BATCH_SIZE = 32\n",
        "EPOCHS = 3\n",
        "PADDING = 1\n",
        "STRIDE = 1\n",
        "\n",
        "VAL_SPLIT = 0.2\n",
        "SEED = 23\n",
        "\n",
        "LEARNING_RATE = 1e-4"
      ]
    },
    {
      "cell_type": "markdown",
      "metadata": {
        "id": "SbSiAvaAlH6i"
      },
      "source": [
        "## CHECK IF COLAB OR OFFLINE"
      ]
    },
    {
      "cell_type": "code",
      "execution_count": null,
      "metadata": {
        "id": "T_aSkDT7lM5u"
      },
      "outputs": [],
      "source": [
        "if 'google.colab' in str(get_ipython()):\n",
        "  isColab = True\n",
        "else:\n",
        "  isColab = False"
      ]
    },
    {
      "cell_type": "markdown",
      "metadata": {
        "id": "c9csuVQSleyd"
      },
      "source": [
        "## CHECK IF GPU IS AVAILABLE"
      ]
    },
    {
      "cell_type": "code",
      "execution_count": null,
      "metadata": {
        "colab": {
          "base_uri": "https://localhost:8080/"
        },
        "id": "gb4Ry-c0lhc4",
        "outputId": "9df0fe66-62d0-40ca-b466-5b612be94fb6"
      },
      "outputs": [
        {
          "name": "stdout",
          "output_type": "stream",
          "text": [
            "1 GPU available\n"
          ]
        }
      ],
      "source": [
        "import torch\n",
        "\n",
        "num_gpu = torch.cuda.device_count()\n",
        "print(f'{num_gpu} GPU available')\n",
        "device = torch.device('cuda:0' if torch.cuda.is_available() else 'cpu')"
      ]
    },
    {
      "cell_type": "markdown",
      "metadata": {
        "id": "P7_1mjbClJpv"
      },
      "source": [
        "## REQUIREMENT"
      ]
    },
    {
      "cell_type": "code",
      "execution_count": null,
      "metadata": {
        "colab": {
          "base_uri": "https://localhost:8080/"
        },
        "id": "0r4T96G8lGmp",
        "outputId": "3ecac33e-7bee-4268-e65f-80008eef4784"
      },
      "outputs": [
        {
          "name": "stdout",
          "output_type": "stream",
          "text": [
            "Check if drive is mounted, chek if mask is label created\n",
            "Mounted at /content/drive\n"
          ]
        }
      ],
      "source": [
        "if isColab:\n",
        "  from google.colab import files, drive\n",
        "  if (not 'kaggle.json' in os.listdir()):\n",
        "    print(\"Upload kaggle.json\")\n",
        "    files.upload()\n",
        "    !mkdir ~/.kaggle\n",
        "    !cp kaggle.json ~/.kaggle/\n",
        "    !chmod 600 ~/.kaggle/kaggle.json\n",
        "  drive.mount('/content/drive')\n",
        "  DB_PATH = '/content/drive/MyDrive/scuola/deeplife/'\n",
        "else:\n",
        "  print(\"Check if folder is correct\")\n",
        "  DB_PATH = 'database/'"
      ]
    },
    {
      "cell_type": "markdown",
      "metadata": {
        "id": "N3gVoRZVkj1i"
      },
      "source": [
        "## IMPORTS"
      ]
    },
    {
      "cell_type": "code",
      "execution_count": null,
      "metadata": {
        "id": "7uOPomQDkoSl"
      },
      "outputs": [],
      "source": [
        "import os\n",
        "import random\n",
        "import numpy as np\n",
        "from PIL import Image\n",
        "import matplotlib.pyplot as plt\n",
        "import albumentations as A\n",
        "\n",
        "import torch.nn as nn\n",
        "import torchvision\n",
        "import torchvision.transforms.functional as TF\n",
        "from torch.utils.data import DataLoader, Dataset\n",
        "import torchvision.transforms as transforms\n",
        "from sklearn.model_selection import train_test_split"
      ]
    },
    {
      "cell_type": "code",
      "execution_count": null,
      "metadata": {
        "id": "2a9s0UE9y5t2"
      },
      "outputs": [],
      "source": [
        "if os.path.exists(DB_PATH):\n",
        "    print(\"Database folder found\")\n",
        "else:\n",
        "    print(\" Generate the database\")\n",
        "    os.makedirs(DB_PATH)\n",
        "    os.chdir(DB_PATH)\n",
        "    if(isColab):\n",
        "        !pip install kaggle\n",
        "        !kaggle competitions download -c data-science-bowl-2018\n",
        "        !unzip -q data-science-bowl-2018.zip -d ./\n",
        "        !unzip -q cellular-segmentation/stage1_train.zip -d unpreocessed/\n",
        "        if os.path.exists('./cellular-segmentation') and os.path.exists('./data-science-bowl-2018.zip'):\n",
        "            !rm data-science-bowl-2018.zip\n",
        "    else:\n",
        "        print(\"Download the database and place it in the folder\")\n",
        "    os.chdir('..')"
      ]
    },
    {
      "cell_type": "markdown",
      "metadata": {
        "id": "WZJGiJdHlAgs"
      },
      "source": [
        "## LOAD DATA"
      ]
    },
    {
      "cell_type": "code",
      "execution_count": null,
      "metadata": {
        "id": "6tChQpKompII"
      },
      "outputs": [],
      "source": [
        "IMAGE_PATH = os.path.join(DB_PATH, \"train\")\n",
        "LABEL_PATH = os.path.join(DB_PATH, \"label\")\n",
        "\n",
        "# Ensure both directories have the same number of files\n",
        "number_images = len(os.listdir(IMAGE_PATH))\n",
        "number_labels = len(os.listdir(LABEL_PATH))\n",
        "\n",
        "assert number_images == number_labels\n",
        "\n",
        "# LOAD PIL IMAGES AND LABELS\n",
        "image_files = sorted(os.listdir(IMAGE_PATH))\n",
        "label_files = sorted(os.listdir(LABEL_PATH))\n",
        "\n",
        "# Split into train and temp sets\n",
        "train_images, val_images, train_labels, val_labels = train_test_split(image_files, label_files, test_size=VAL_SPLIT, random_state=SEED)\n"
      ]
    },
    {
      "cell_type": "markdown",
      "metadata": {
        "id": "EoOFHafCpXLt"
      },
      "source": [
        "## DEFINE DATASET"
      ]
    },
    {
      "cell_type": "code",
      "execution_count": null,
      "metadata": {
        "id": "tqLOQRxwnbIU"
      },
      "outputs": [],
      "source": [
        "class CellularDataset(Dataset):\n",
        "    def __init__(self, images, labels, transform=None):\n",
        "        \"\"\"\n",
        "        Args:\n",
        "            image_dir (string): Directory with all the images.\n",
        "            label_dir (string): Directory with all the labels.\n",
        "            transform (callable, optional): Optional transform to be applied\n",
        "                on a sample.\n",
        "        \"\"\"\n",
        "        self.transform = transform\n",
        "        self.image_files = images\n",
        "        self.label_files = labels\n",
        "\n",
        "        # Ensure both directories have the same number of files\n",
        "        assert len(self.image_files) == len(self.label_files), \\\n",
        "            \"The number of images and labels should be the same\"\n",
        "\n",
        "    def __len__(self):\n",
        "        return len(self.image_files)\n",
        "\n",
        "    def __getitem__(self, idx):\n",
        "        if torch.is_tensor(idx):\n",
        "            idx = idx.tolist()\n",
        "\n",
        "        # Construct file paths\n",
        "        img_name = os.path.join(IMAGE_PATH, self.image_files[idx])\n",
        "        label_name = os.path.join(LABEL_PATH, self.label_files[idx])\n",
        "\n",
        "        # Load image and label\n",
        "        image = Image.open(img_name).convert('RGB')\n",
        "        label = Image.open(label_name).convert('L')\n",
        "\n",
        "        # Apply transformations if any\n",
        "        if self.transform:\n",
        "            image = self.transform(image)\n",
        "            label = self.transform(label)\n",
        "\n",
        "        # Convert to NumPy arrays\n",
        "        image_np = np.array(image)\n",
        "        label_np = np.array(label)\n",
        "\n",
        "        # Convert to PyTorch tensors\n",
        "        image_tensor = torch.from_numpy(image_np).float()\n",
        "        label_tensor = torch.from_numpy(label_np).long()\n",
        "\n",
        "        return image_tensor, label_tensor"
      ]
    },
    {
      "cell_type": "markdown",
      "metadata": {
        "id": "TPG4uisqp0Vt"
      },
      "source": [
        "DEFINE TRANSFORMATIONS"
      ]
    },
    {
      "cell_type": "code",
      "execution_count": null,
      "metadata": {
        "id": "Z8qYsmE8pwRJ"
      },
      "outputs": [],
      "source": []
    },
    {
      "cell_type": "markdown",
      "metadata": {
        "id": "bEFyexFx0aiD"
      },
      "source": [
        "## Create Dataset and Dataloader"
      ]
    },
    {
      "cell_type": "code",
      "execution_count": null,
      "metadata": {
        "id": "yF3Yxii0qGqs"
      },
      "outputs": [],
      "source": [
        "train_dataset = CellularDataset(train_images,train_labels)\n",
        "val_dataset = CellularDataset(val_images,val_labels)"
      ]
    },
    {
      "cell_type": "code",
      "execution_count": null,
      "metadata": {
        "id": "j6qGkhLA0iin"
      },
      "outputs": [],
      "source": [
        "train_loader = DataLoader(train_dataset, batch_size = BATCH_SIZE, shuffle = True)\n",
        "val_loader = DataLoader(val_dataset, batch_size = BATCH_SIZE, shuffle = False)\n"
      ]
    },
    {
      "cell_type": "markdown",
      "metadata": {
        "id": "4FtlKMGZ3FTU"
      },
      "source": [
        "## MODEL"
      ]
    },
    {
      "cell_type": "code",
      "execution_count": null,
      "metadata": {
        "id": "HM_FQJRV3GXj"
      },
      "outputs": [],
      "source": [
        "class DoubleConv(nn.Module):\n",
        "    def __init__(self, in_channels, out_channels):\n",
        "        super(DoubleConv, self).__init__()\n",
        "        self.conv = nn.Sequential(\n",
        "            nn.Conv2d(in_channels, out_channels, 3, 1, 1, bias=False),\n",
        "            nn.BatchNorm2d(out_channels),\n",
        "            nn.ReLU(inplace=True),\n",
        "            nn.Conv2d(out_channels, out_channels, 3, 1, 1, bias=False),\n",
        "            nn.BatchNorm2d(out_channels),\n",
        "            nn.ReLU(inplace=True),\n",
        "        )\n",
        "\n",
        "    def forward(self, x):\n",
        "        return self.conv(x)\n",
        "\n",
        "class UNET(nn.Module):\n",
        "    def __init__(\n",
        "            self, in_channels=3, out_channels=1, features=[64, 128, 256, 512],\n",
        "    ):\n",
        "        super(UNET, self).__init__()\n",
        "        self.ups = nn.ModuleList()\n",
        "        self.downs = nn.ModuleList()\n",
        "        self.pool = nn.MaxPool2d(kernel_size=2, stride=2)\n",
        "\n",
        "        # Down part of UNET\n",
        "        for feature in features:\n",
        "            self.downs.append(DoubleConv(in_channels, feature))\n",
        "            in_channels = feature\n",
        "\n",
        "        # Up part of UNET\n",
        "        for feature in reversed(features):\n",
        "            self.ups.append(\n",
        "                nn.ConvTranspose2d(\n",
        "                    feature*2, feature, kernel_size=2, stride=2,\n",
        "                )\n",
        "            )\n",
        "            self.ups.append(DoubleConv(feature*2, feature))\n",
        "\n",
        "        self.bottleneck = DoubleConv(features[-1], features[-1]*2)\n",
        "        self.final_conv = nn.Conv2d(features[0], out_channels, kernel_size=1)\n",
        "\n",
        "    def forward(self, x):\n",
        "        skip_connections = []\n",
        "\n",
        "        for down in self.downs:\n",
        "            x = down(x)\n",
        "            skip_connections.append(x)\n",
        "            x = self.pool(x)\n",
        "\n",
        "        x = self.bottleneck(x)\n",
        "        skip_connections = skip_connections[::-1]\n",
        "\n",
        "        for idx in range(0, len(self.ups), 2):\n",
        "            x = self.ups[idx](x)\n",
        "            skip_connection = skip_connections[idx//2]\n",
        "\n",
        "            if x.shape != skip_connection.shape:\n",
        "                x = TF.resize(x, size=skip_connection.shape[2:])\n",
        "\n",
        "            concat_skip = torch.cat((skip_connection, x), dim=1)\n",
        "            x = self.ups[idx+1](concat_skip)\n",
        "\n",
        "        return self.final_conv(x)"
      ]
    },
    {
      "cell_type": "markdown",
      "metadata": {
        "id": "0Q2uNn-Q32je"
      },
      "source": [
        "## TRAIN"
      ]
    },
    {
      "cell_type": "code",
      "execution_count": null,
      "metadata": {
        "colab": {
          "base_uri": "https://localhost:8080/"
        },
        "id": "f3Z_nokn38Ix",
        "outputId": "73cb7d06-bf33-481b-accf-6e5b6a0d08a3"
      },
      "outputs": [
        {
          "name": "stdout",
          "output_type": "stream",
          "text": [
            "Requirement already satisfied: tqdm in /usr/local/lib/python3.10/dist-packages (4.66.4)\n"
          ]
        }
      ],
      "source": [
        "if isColab:\n",
        "  !pip install tqdm"
      ]
    },
    {
      "cell_type": "code",
      "source": [
        "def save_checkpoint(state, filename=\"unet_chckpnt.pth.tar\"):\n",
        "    torch.save(state, filename)\n",
        "\n",
        "def load_checkpoint(checkpoint, model):\n",
        "    model.load_state_dict(checkpoint[\"state_dict\"])"
      ],
      "metadata": {
        "id": "ZPCpZRpYAEVI"
      },
      "execution_count": null,
      "outputs": []
    },
    {
      "cell_type": "code",
      "execution_count": null,
      "metadata": {
        "id": "W2JivtMb3yag"
      },
      "outputs": [],
      "source": [
        "from tqdm import tqdm\n",
        "\n",
        "def train_fn(loader, model, optimizer, loss_fn, scaler):\n",
        "    loop = tqdm(loader)\n",
        "\n",
        "    for batch_idx, (data, targets) in enumerate(loop):\n",
        "        data = data.permute(0, 3, 1, 2).to(device)  # Transpose to [batch_size, channels, height, width]\n",
        "        targets = targets.float().unsqueeze(1).to(device)\n",
        "\n",
        "        # forward\n",
        "        with torch.cuda.amp.autocast():\n",
        "            predictions = model(data)\n",
        "            loss = loss_fn(predictions, targets)\n",
        "\n",
        "        # backward\n",
        "        optimizer.zero_grad()\n",
        "        scaler.scale(loss).backward()\n",
        "        scaler.step(optimizer)\n",
        "        scaler.update()\n",
        "\n",
        "        # update tqdm loop\n",
        "        loop.set_postfix(loss=loss.item())\n",
        "\n",
        "\n",
        "def check_accuracy(loader, model, device=\"cuda\"):\n",
        "    num_correct = 0\n",
        "    num_pixels = 0\n",
        "    dice_score = 0\n",
        "    model.eval()\n",
        "\n",
        "    with torch.no_grad():\n",
        "        for x, y in loader:\n",
        "            x = x.permute(0, 3, 1, 2).to(device)\n",
        "            y = y.to(device).unsqueeze(1)\n",
        "            preds = torch.sigmoid(model(x))\n",
        "            preds = (preds > 0.5).float()\n",
        "            num_correct += (preds == y).sum()\n",
        "            num_pixels += torch.numel(preds)\n",
        "            dice_score += (2 * (preds * y).sum()) / (\n",
        "                (preds + y).sum() + 1e-8\n",
        "            )\n",
        "\n",
        "    print(\n",
        "        f\"Got {num_correct}/{num_pixels} with acc {num_correct/num_pixels*100:.2f}\"\n",
        "    )\n",
        "    print(f\"Dice score: {dice_score/len(loader)}\")\n",
        "    model.train()\n",
        "\n",
        "def fit(model, optimizer, loss_fn, scaler):\n",
        "  for epoch in range(EPOCHS):\n",
        "    train_fn(train_loader, model, optimizer, loss_fn, scaler)\n",
        "\n",
        "    # check accuracy\n",
        "    check_accuracy(val_loader, model, device=device)\n",
        "\n",
        "    # save model\n",
        "    checkpoint = {\n",
        "        \"state_dict\": model.state_dict(),\n",
        "        \"optimizer\":optimizer.state_dict(),\n",
        "    }\n",
        "    save_checkpoint(checkpoint)"
      ]
    },
    {
      "cell_type": "code",
      "execution_count": null,
      "metadata": {
        "id": "jEUN4g0R5eUv"
      },
      "outputs": [],
      "source": [
        "model = UNET(in_channels=3, out_channels=1).to(device)\n",
        "loss_fn = nn.BCEWithLogitsLoss()\n",
        "optimizer = torch.optim.Adam(model.parameters(), lr=LEARNING_RATE)\n",
        "scaler = torch.cuda.amp.GradScaler()"
      ]
    },
    {
      "cell_type": "code",
      "execution_count": null,
      "metadata": {
        "colab": {
          "base_uri": "https://localhost:8080/"
        },
        "id": "NXA4o_B052PK",
        "outputId": "c42473cb-11f5-4ab9-f0fd-3ed78ead74ab"
      },
      "outputs": [
        {
          "name": "stderr",
          "output_type": "stream",
          "text": [
            "  0%|          | 0/17 [00:00<?, ?it/s]/usr/local/lib/python3.10/dist-packages/torch/autograd/graph.py:744: UserWarning: Plan failed with a cudnnException: CUDNN_BACKEND_EXECUTION_PLAN_DESCRIPTOR: cudnnFinalize Descriptor Failed cudnn_status: CUDNN_STATUS_NOT_SUPPORTED (Triggered internally at ../aten/src/ATen/native/cudnn/Conv_v8.cpp:919.)\n",
            "  return Variable._execution_engine.run_backward(  # Calls into the C++ engine to run the backward pass\n",
            "100%|██████████| 17/17 [04:07<00:00, 14.59s/it, loss=-78.1]\n"
          ]
        },
        {
          "name": "stdout",
          "output_type": "stream",
          "text": [
            "Got 7288149/8781824 with acc 82.99\n",
            "Dice score: 1.0524696111679077\n"
          ]
        },
        {
          "name": "stderr",
          "output_type": "stream",
          "text": [
            "100%|██████████| 17/17 [00:15<00:00,  1.07it/s, loss=-140]\n"
          ]
        },
        {
          "name": "stdout",
          "output_type": "stream",
          "text": [
            "Got 7110158/8781824 with acc 80.96\n",
            "Dice score: 1.8139652013778687\n"
          ]
        },
        {
          "name": "stderr",
          "output_type": "stream",
          "text": [
            "100%|██████████| 17/17 [00:15<00:00,  1.10it/s, loss=-170]\n"
          ]
        },
        {
          "name": "stdout",
          "output_type": "stream",
          "text": [
            "Got 7162560/8781824 with acc 81.56\n",
            "Dice score: 1.903640627861023\n"
          ]
        }
      ],
      "source": [
        "fit(model,optimizer,loss_fn,scaler)"
      ]
    },
    {
      "cell_type": "markdown",
      "source": [
        "LOAD TRAIN SET"
      ],
      "metadata": {
        "id": "NfObYVBCAeKs"
      }
    },
    {
      "cell_type": "code",
      "source": [],
      "metadata": {
        "id": "nRGlf1nRAf_5"
      },
      "execution_count": null,
      "outputs": []
    }
  ],
  "metadata": {
    "accelerator": "GPU",
    "colab": {
      "gpuType": "T4",
      "provenance": [],
      "include_colab_link": true
    },
    "kernelspec": {
      "display_name": "Python 3",
      "name": "python3"
    },
    "language_info": {
      "name": "python",
      "version": "3.12.3"
    }
  },
  "nbformat": 4,
  "nbformat_minor": 0
}